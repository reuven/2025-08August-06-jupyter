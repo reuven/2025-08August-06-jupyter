{
 "cells": [
  {
   "cell_type": "markdown",
   "metadata": {},
   "source": [
    "# Agenda\n",
    "\n",
    "1. Python\n",
    "2. REPL\n",
    "3. Jupyter\n",
    "4. Pandas -- like Excel, but inside of Python\n",
    "5. Reading from CSV files (and analyzing that data)\n",
    "6. Reading from Excel files (and analyzing that data)"
   ]
  },
  {
   "cell_type": "markdown",
   "metadata": {},
   "source": [
    "# What is Python?\n",
    "\n",
    "Python is a programming language.  It's used in a lot of places:\n",
    "\n",
    "- Data science and machine learning\n",
    "- Data analysis\n",
    "- Web applications\n",
    "- APIs\n",
    "- Automated testing\n",
    "- Education\n",
    "- Devops\n",
    "\n",
    "Open-source language -- developed and owned by the community that uses it.\n",
    "\n",
    "Python is a great language for an age where people are expensive and computers are cheap.\n",
    "\n",
    "If you want to write Python, you can use a specialized coding editor (IDE). "
   ]
  },
  {
   "cell_type": "markdown",
   "metadata": {},
   "source": [
    "# REPL\n",
    "\n",
    "Read-eval-print loop -- highly interactive way to write your code. It's a laboratory for doing experiments.\n",
    "\n",
    "REPLs in Python were always text based. \n",
    "\n",
    "About 10 years ago, people created Jupyter -- a Web-based REPL. It allows you to play with Python in your browser. It also allows you to write documentation (as I'm doing now) using Markdown."
   ]
  },
  {
   "cell_type": "code",
   "execution_count": null,
   "metadata": {},
   "outputs": [],
   "source": []
  }
 ],
 "metadata": {
  "kernelspec": {
   "display_name": "Python 3 (ipykernel)",
   "language": "python",
   "name": "python3"
  },
  "language_info": {
   "codemirror_mode": {
    "name": "ipython",
    "version": 3
   },
   "file_extension": ".py",
   "mimetype": "text/x-python",
   "name": "python",
   "nbconvert_exporter": "python",
   "pygments_lexer": "ipython3",
   "version": "3.13.5"
  }
 },
 "nbformat": 4,
 "nbformat_minor": 4
}
